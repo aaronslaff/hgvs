{
 "cells": [
  {
   "cell_type": "markdown",
   "metadata": {},
   "source": [
    "# Parse and Format a Variant"
   ]
  },
  {
   "cell_type": "code",
   "execution_count": 5,
   "metadata": {
    "collapsed": false
   },
   "outputs": [
    {
     "data": {
      "text/plain": [
       "SequenceVariant(ac=NC_000001.10, type=g, posedit=150550916_150550920delinsCAATACC, gene=None)"
      ]
     },
     "execution_count": 5,
     "metadata": {},
     "output_type": "execute_result"
    }
   ],
   "source": [
    "import hgvs.parser\n",
    "hp = hgvs.parser.Parser()\n",
    "\n",
    "g_hgvs = 'NC_000001.10:g.150550916_150550920delGACAAinsCAATACC'\n",
    "g_var = hp.parse_hgvs_variant(g_hgvs)\n",
    "g_var"
   ]
  },
  {
   "cell_type": "markdown",
   "metadata": {},
   "source": [
    "# Map variants between sequences"
   ]
  },
  {
   "cell_type": "code",
   "execution_count": 6,
   "metadata": {
    "collapsed": false
   },
   "outputs": [],
   "source": [
    "import hgvs.dataproviders.uta\n",
    "hdp = hgvs.dataproviders.uta.connect()\n",
    "\n",
    "import hgvs.assemblymapper\n",
    "\n",
    "am = hgvs.assemblymapper.AssemblyMapper(hdp, assembly_name='GRCh37', alt_aln_method='splign')"
   ]
  },
  {
   "cell_type": "code",
   "execution_count": 7,
   "metadata": {
    "collapsed": false
   },
   "outputs": [
    {
     "data": {
      "text/plain": [
       "[SequenceVariant(ac=NM_001197320.1, type=c, posedit=277_281delinsGGTATTG, gene=None),\n",
       " SequenceVariant(ac=NM_001197320.2, type=c, posedit=277_281delinsGGTATTG, gene=None),\n",
       " SequenceVariant(ac=NM_021960.4, type=c, posedit=736_740delinsGGTATTG, gene=None),\n",
       " SequenceVariant(ac=NM_021960.5, type=c, posedit=736_740delinsGGTATTG, gene=None),\n",
       " SequenceVariant(ac=NM_182763.2, type=c, posedit=688+399_688+403delinsGGTATTG, gene=None),\n",
       " SequenceVariant(ac=NM_182763.3, type=c, posedit=688+399_688+403delinsGGTATTG, gene=None)]"
      ]
     },
     "execution_count": 7,
     "metadata": {},
     "output_type": "execute_result"
    }
   ],
   "source": [
    "c_vars = [am.g_to_c(g_var, ac) for ac in am.relevant_transcripts(g_var)]\n",
    "c_vars"
   ]
  },
  {
   "cell_type": "code",
   "execution_count": 8,
   "metadata": {
    "collapsed": false
   },
   "outputs": [
    {
     "data": {
      "text/plain": [
       "[SequenceVariant(ac=NP_001184249.1, type=p, posedit=(Leu93GlyfsTer5), gene=None),\n",
       " SequenceVariant(ac=NP_001184249.1, type=p, posedit=(Leu93GlyfsTer5), gene=None),\n",
       " SequenceVariant(ac=NP_068779.1, type=p, posedit=(Leu246GlyfsTer5), gene=None),\n",
       " SequenceVariant(ac=NP_068779.1, type=p, posedit=(Leu246GlyfsTer5), gene=None),\n",
       " SequenceVariant(ac=NP_877495.1, type=p, posedit=None, gene=None),\n",
       " SequenceVariant(ac=NP_877495.1, type=p, posedit=None, gene=None)]"
      ]
     },
     "execution_count": 8,
     "metadata": {},
     "output_type": "execute_result"
    }
   ],
   "source": [
    "p_vars = [am.c_to_p(c_var) for c_var in c_vars]\n",
    "p_vars"
   ]
  },
  {
   "cell_type": "markdown",
   "metadata": {},
   "source": [
    "# Normalize (Shuffle and Rewrite) Variants"
   ]
  },
  {
   "cell_type": "code",
   "execution_count": 9,
   "metadata": {
    "collapsed": false
   },
   "outputs": [
    {
     "data": {
      "text/plain": [
       "SequenceVariant(ac=NM_021960.4, type=c, posedit=737dup, gene=None)"
      ]
     },
     "execution_count": 9,
     "metadata": {},
     "output_type": "execute_result"
    }
   ],
   "source": [
    "import hgvs.normalizer\n",
    "hn = hgvs.normalizer.Normalizer(hdp)\n",
    "hn.normalize(hp.parse_hgvs_variant('NM_021960.4:c.735_736insT'))"
   ]
  },
  {
   "cell_type": "markdown",
   "metadata": {},
   "source": [
    "# Validate Variants"
   ]
  },
  {
   "cell_type": "code",
   "execution_count": 10,
   "metadata": {
    "collapsed": false
   },
   "outputs": [
    {
     "name": "stdout",
     "output_type": "stream",
     "text": [
      "NM_021960.4:c.736_740delinsGGTATTG: Variant reference (ATGTC) does not agree with reference sequence (TTGTC)\n"
     ]
    }
   ],
   "source": [
    "import hgvs.validator\n",
    "hv = hgvs.validator.Validator(hdp)\n",
    "try:\n",
    "    hv.validate(hp.parse_hgvs_variant('NM_021960.4:c.736_740delATGTCinsGGTATTG'))\n",
    "except Exception as e:\n",
    "    print(e)"
   ]
  },
  {
   "cell_type": "markdown",
   "metadata": {},
   "source": [
    "# `SequenceVariant` instances are structured variant representations"
   ]
  },
  {
   "cell_type": "code",
   "execution_count": 11,
   "metadata": {
    "collapsed": false
   },
   "outputs": [
    {
     "data": {
      "text/plain": [
       "('NC_000001.10',\n",
       " 'g',\n",
       " PosEdit(pos=150550916_150550920, edit=delinsCAATACC, uncertain=False))"
      ]
     },
     "execution_count": 11,
     "metadata": {},
     "output_type": "execute_result"
    }
   ],
   "source": [
    "g_var.ac, g_var.type, g_var.posedit"
   ]
  },
  {
   "cell_type": "code",
   "execution_count": 12,
   "metadata": {
    "collapsed": false
   },
   "outputs": [
    {
     "data": {
      "text/plain": [
       "SimplePosition(base=150550916, uncertain=False)"
      ]
     },
     "execution_count": 12,
     "metadata": {},
     "output_type": "execute_result"
    }
   ],
   "source": [
    "g_var.posedit.pos.start"
   ]
  },
  {
   "cell_type": "code",
   "execution_count": 13,
   "metadata": {
    "collapsed": false
   },
   "outputs": [
    {
     "data": {
      "text/plain": [
       "('GACAA', 'CAATACC')"
      ]
     },
     "execution_count": 13,
     "metadata": {},
     "output_type": "execute_result"
    }
   ],
   "source": [
    "g_var.posedit.edit.ref, g_var.posedit.edit.alt"
   ]
  },
  {
   "cell_type": "markdown",
   "metadata": {},
   "source": [
    "# Format variants simply by \"stringifying\" them with `print` or `format`"
   ]
  },
  {
   "cell_type": "code",
   "execution_count": 14,
   "metadata": {
    "collapsed": false
   },
   "outputs": [
    {
     "name": "stdout",
     "output_type": "stream",
     "text": [
      "Your variant was NC_000001.10:g.150550916_150550920delinsCAATACC mapped to:\n",
      "  NM_001197320.1:c.277_281delinsGGTATTG (NP_001184249.1:p.(Leu93GlyfsTer5))\n",
      "  NM_001197320.2:c.277_281delinsGGTATTG (NP_001184249.1:p.(Leu93GlyfsTer5))\n",
      "  NM_021960.4:c.736_740delinsGGTATTG (NP_068779.1:p.(Leu246GlyfsTer5))\n",
      "  NM_021960.5:c.736_740delinsGGTATTG (NP_068779.1:p.(Leu246GlyfsTer5))\n",
      "  NM_182763.2:c.688+399_688+403delinsGGTATTG (NP_877495.1:p.?)\n",
      "  NM_182763.3:c.688+399_688+403delinsGGTATTG (NP_877495.1:p.?)\n"
     ]
    }
   ],
   "source": [
    "print(\"\\n\".join([\"Your variant was {v} mapped to:\".format(v=g_var)]\n",
    "                + [\"  {c_var} ({p_var})\".format(c_var=c_var, p_var=p_var)\n",
    "                   for c_var,p_var in zip(c_vars,p_vars)]))"
   ]
  },
  {
   "cell_type": "markdown",
   "metadata": {},
   "source": [
    "NCBI SeqViewer for MCL1 region on GRCh37.p13\n",
    "<img src=\"images/MCL1.png\">\n",
    "<img src=\"images/MCL1-zoom.png\">"
   ]
  }
 ],
 "metadata": {
  "interpreter": {
   "hash": "b9fb0dc3ec6155a4e6f0e0c05e2eb333b89bc66a97fcbb949ab37abf3ce8b359"
  },
  "kernelspec": {
   "display_name": "Python 2",
   "language": "python",
   "name": "python3"
  },
  "language_info": {
   "codemirror_mode": {
    "name": "ipython",
    "version": 3
   },
   "file_extension": ".py",
   "mimetype": "text/x-python",
   "name": "python",
   "nbconvert_exporter": "python",
   "pygments_lexer": "ipython3",
   "version": "3.11.5"
  }
 },
 "nbformat": 4,
 "nbformat_minor": 0
}
